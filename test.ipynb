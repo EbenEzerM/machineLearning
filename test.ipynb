{
 "cells": [
  {
   "cell_type": "code",
   "execution_count": 41,
   "metadata": {},
   "outputs": [
    {
     "name": "stdout",
     "output_type": "stream",
     "text": [
      "rata mahasiswa datang = 2.7142857142857144\n"
     ]
    }
   ],
   "source": [
    "import pandas as pd\n",
    "data = pd.read_csv('test.csv')\n",
    "data['total_biaya'] = data['datang'] * data['biaya']\n",
    "\n",
    "rataDatang = data['datang'].mean()\n",
    "print(\"rata mahasiswa datang =\",rataDatang)"
   ]
  },
  {
   "cell_type": "code",
   "execution_count": 42,
   "metadata": {},
   "outputs": [
    {
     "name": "stdout",
     "output_type": "stream",
     "text": [
      "Total biaya tertinggi (150000) terjadi pada hari: Sabtu\n"
     ]
    }
   ],
   "source": [
    "# Mengelompokkan data berdasarkan hari dan menghitung total biaya untuk setiap hari\n",
    "total_biaya_per_hari = data.groupby('hari')['total_biaya'].sum()\n",
    "\n",
    "# Mencari hari dengan total biaya tertinggi\n",
    "hari_tertinggi = total_biaya_per_hari.idxmax()\n",
    "total_biaya_tertinggi_per_hari = total_biaya_per_hari.max()\n",
    "\n",
    "print(f'Total biaya tertinggi ({total_biaya_tertinggi_per_hari}) terjadi pada hari: {hari_tertinggi}')"
   ]
  },
  {
   "cell_type": "code",
   "execution_count": 43,
   "metadata": {},
   "outputs": [
    {
     "name": "stdout",
     "output_type": "stream",
     "text": [
      "Hari dengan total biaya di atas 110,000: Sabtu\n"
     ]
    }
   ],
   "source": [
    "# Mengelompokkan data berdasarkan hari dan menghitung total biaya untuk setiap hari\n",
    "total_biaya_per_hari = data.groupby('hari')['total_biaya'].sum()\n",
    "\n",
    "# Mencari hari dengan total biaya di atas 110,000\n",
    "hari_diatas_110000 = total_biaya_per_hari[total_biaya_per_hari > 110000].index.tolist()\n",
    "\n",
    "# Mengonversi nilai hari_diatas_110000 menjadi string\n",
    "hasil_string = ', '.join(hari_diatas_110000)\n",
    "\n",
    "print(f'Hari dengan total biaya di atas 110,000: {hasil_string}')"
   ]
  },
  {
   "cell_type": "code",
   "execution_count": 44,
   "metadata": {},
   "outputs": [
    {
     "name": "stdout",
     "output_type": "stream",
     "text": [
      "Orang yang paling banyak datang ke kampus adalah: Ani\n"
     ]
    }
   ],
   "source": [
    "datangTerbanyak_id = data['datang'].idxmax()\n",
    "datangTerbanyak = data.loc[datangTerbanyak_id]\n",
    "print(\"Orang yang paling banyak datang ke kampus adalah:\", datangTerbanyak['mahasiswa'])"
   ]
  },
  {
   "cell_type": "code",
   "execution_count": 45,
   "metadata": {},
   "outputs": [
    {
     "name": "stdout",
     "output_type": "stream",
     "text": [
      "Mahasiswa yang datang pada hari Minggu = Budi\n"
     ]
    }
   ],
   "source": [
    "datangHariMinggu = data[data['hari'] == 'Minggu']['mahasiswa'].tolist()\n",
    "print(\"Mahasiswa yang datang pada hari Minggu =\", ', '.join(datangHariMinggu))"
   ]
  },
  {
   "cell_type": "code",
   "execution_count": 46,
   "metadata": {},
   "outputs": [
    {
     "name": "stdout",
     "output_type": "stream",
     "text": [
      "Total biaya tertinggi: 150000\n",
      "Total biaya terendah: 15000\n"
     ]
    }
   ],
   "source": [
    "# Mencari total biaya tertinggi dan terendah\n",
    "total_biaya_tertinggi = data['total_biaya'].max()\n",
    "total_biaya_terendah = data['total_biaya'].min()\n",
    "\n",
    "print(f'Total biaya tertinggi: {total_biaya_tertinggi}')\n",
    "print(f'Total biaya terendah: {total_biaya_terendah}')"
   ]
  },
  {
   "cell_type": "code",
   "execution_count": 49,
   "metadata": {},
   "outputs": [
    {
     "name": "stdout",
     "output_type": "stream",
     "text": [
      "Frekuensi datang tertinggi = 5 dan yang terendah = 1\n"
     ]
    }
   ],
   "source": [
    "frekuensi_datangMax = data['datang'].max()\n",
    "frekuensi_datangMin = data['datang'].min()\n",
    "print(\"Frekuensi datang tertinggi =\", frekuensi_datangMax, \"dan yang terendah =\", frekuensi_datangMin)"
   ]
  }
 ],
 "metadata": {
  "kernelspec": {
   "display_name": "Python 3",
   "language": "python",
   "name": "python3"
  },
  "language_info": {
   "codemirror_mode": {
    "name": "ipython",
    "version": 3
   },
   "file_extension": ".py",
   "mimetype": "text/x-python",
   "name": "python",
   "nbconvert_exporter": "python",
   "pygments_lexer": "ipython3",
   "version": "3.8.10"
  }
 },
 "nbformat": 4,
 "nbformat_minor": 2
}
