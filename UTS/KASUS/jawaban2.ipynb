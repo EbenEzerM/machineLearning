{
 "cells": [
  {
   "cell_type": "code",
   "execution_count": null,
   "metadata": {},
   "outputs": [],
   "source": [
    "import pandas as pd\n",
    "import matplotlib.pyplot as plt\n",
    "\n",
    "fakultas = [\"Bisnis\", \"D3 Perhotelan\", \"ICT\", \"Ilmu Komunikasi\", \"Seni dan Desain\"]\n",
    "jumlah_mahasiswa = [260, 28, 284, 465, 735]\n",
    "akreditasi = [\"A\", \"A\", \"B\", \"A\", \"A\"]\n",
    "\n",
    "info_mahasiswa = pd.DataFrame({\"fakultas\": fakultas, \"jumlah_mahasiswa\": jumlah_mahasiswa, \"akreditasi\": akreditasi})\n",
    "\n",
    "warnaBar = ['red', 'yellow', 'green', 'blue', 'purple']\n",
    "\n",
    "plt.figure(figsize=(10, 6))\n",
    "bars = plt.bar(info_mahasiswa['fakultas'], info_mahasiswa['jumlah_mahasiswa'], color=warnaBar)\n",
    "plt.xlabel('Nama Fakultas')\n",
    "plt.ylabel('Jumlah Mahasiswa')\n",
    "plt.title('Jumlah Mahasiswa per Fakultas')\n",
    "\n",
    "keterangan = fakultas\n",
    "plt.legend(bars, keterangan, title='Fakultas', loc='center left', bbox_to_anchor=(1, 0.5))\n",
    "\n",
    "plt.show()"
   ]
  }
 ],
 "metadata": {
  "language_info": {
   "name": "python"
  }
 },
 "nbformat": 4,
 "nbformat_minor": 2
}
