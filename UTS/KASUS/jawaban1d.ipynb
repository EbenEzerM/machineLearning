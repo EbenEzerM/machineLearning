{
 "cells": [
  {
   "cell_type": "code",
   "execution_count": 1,
   "metadata": {},
   "outputs": [
    {
     "name": "stdout",
     "output_type": "stream",
     "text": [
      "Orang yang paling banyak datang ke kampus adalah: Ani\n"
     ]
    }
   ],
   "source": [
    "import pandas as pd\n",
    "data = {\n",
    "    'hari': ['Senin', 'Selasa', 'Rabu', 'Kamis', 'Jumat', 'Sabtu', 'Minggu'],\n",
    "    'datang': [2, 3, 4, 1, 2, 5, 2],\n",
    "    'biaya': [30000*2, 35000*3, 25000*4, 15000*1, 20000*2, 30000*5, 35000*2],\n",
    "    'mahasiswa': ['Ani', 'Budi', 'Jono', 'Lono', 'Joni', 'Ani', 'Budi']\n",
    "}\n",
    "df = pd.DataFrame(data)\n",
    "\n",
    "datangTerbanyak_id = df['datang'].idxmax()\n",
    "datangTerbanyak = df.loc[datangTerbanyak_id]\n",
    "\n",
    "print(\"Orang yang paling banyak datang ke kampus adalah:\", datangTerbanyak['mahasiswa'])"
   ]
  }
 ],
 "metadata": {
  "kernelspec": {
   "display_name": "Python 3",
   "language": "python",
   "name": "python3"
  },
  "language_info": {
   "codemirror_mode": {
    "name": "ipython",
    "version": 3
   },
   "file_extension": ".py",
   "mimetype": "text/x-python",
   "name": "python",
   "nbconvert_exporter": "python",
   "pygments_lexer": "ipython3",
   "version": "3.8.10"
  }
 },
 "nbformat": 4,
 "nbformat_minor": 2
}
